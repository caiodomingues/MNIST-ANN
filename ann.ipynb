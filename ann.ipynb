{
  "nbformat": 4,
  "nbformat_minor": 0,
  "metadata": {
    "colab": {
      "name": "Grupo 5 - MNIST.ipynb",
      "provenance": [],
      "collapsed_sections": [],
      "include_colab_link": true
    },
    "kernelspec": {
      "name": "python3",
      "display_name": "Python 3"
    }
  },
  "cells": [
    {
      "cell_type": "markdown",
      "metadata": {
        "id": "view-in-github",
        "colab_type": "text"
      },
      "source": [
        "<a href=\"https://colab.research.google.com/github/caiodomingues/MNIST-ANN/blob/master/ann.ipynb\" target=\"_parent\"><img src=\"https://colab.research.google.com/assets/colab-badge.svg\" alt=\"Open In Colab\"/></a>"
      ]
    },
    {
      "cell_type": "markdown",
      "metadata": {
        "id": "JiIe4p-C-JXw",
        "colab_type": "text"
      },
      "source": [
        "# Grupo 5 - Treinamento do Dataset MNIST\n",
        "\n",
        "## O MNIST\n",
        "\n",
        "O MNIST é um dataset considerado como o `hello world` das redes neurais. Todos os projetos o utilizam como exemplo: `TensorFlow, Theano, Caffe, Keras, PyTorch` etc. Para o presente projeto, faremos a implementação de uma ANN (_Artificial Neural Network_, Rede Neural Artificial - em tradução livre) utilizando o PyTorch.\n",
        "\n",
        "--- \n",
        "\n",
        "O MNIST pode ser encontrado [aqui](http://yann.lecun.com/exdb/mnist/). Para este trabalho, utilizaremos o exemplo do [Kaggle](https://www.kaggle.com/ceshine/pytorch-deep-explainer-mnist-example),[AnalyticsDojo](https://colab.research.google.com/github/rpi-techfundamentals/fall2018-materials/blob/master/10-deep-learning/04-pytorch-mnist.ipynb) e dos [exemplos do PyTorch no GitHub](https://github.com/pytorch/examples)\n",
        "\n",
        "## Grupo\n",
        "\n",
        "- Caio Domingues\n",
        "- Higor Santos\n",
        "- Thobias Vicente\n",
        "- Vinícius Marcelo\n"
      ]
    },
    {
      "cell_type": "code",
      "metadata": {
        "id": "bbn8JdsnBmcQ",
        "colab_type": "code",
        "colab": {
          "base_uri": "https://localhost:8080/",
          "height": 102
        },
        "outputId": "9d60602e-159f-4d38-a12f-c1c873af3103"
      },
      "source": [
        "# Instalamos as dependências do projeto com o pip3\n",
        "# PyTorch e Vision \n",
        "!pip3 install torch torchvision"
      ],
      "execution_count": 1,
      "outputs": [
        {
          "output_type": "stream",
          "text": [
            "Requirement already satisfied: torch in /usr/local/lib/python3.6/dist-packages (1.5.1+cu101)\n",
            "Requirement already satisfied: torchvision in /usr/local/lib/python3.6/dist-packages (0.6.1+cu101)\n",
            "Requirement already satisfied: future in /usr/local/lib/python3.6/dist-packages (from torch) (0.16.0)\n",
            "Requirement already satisfied: numpy in /usr/local/lib/python3.6/dist-packages (from torch) (1.18.5)\n",
            "Requirement already satisfied: pillow>=4.1.1 in /usr/local/lib/python3.6/dist-packages (from torchvision) (7.0.0)\n"
          ],
          "name": "stdout"
        }
      ]
    },
    {
      "cell_type": "markdown",
      "metadata": {
        "id": "FCqYQ0pxBY44",
        "colab_type": "text"
      },
      "source": [
        "## Prosseguindo\n",
        "\n",
        "Feito isso, podemos realizar todas as importações base para o projeto:"
      ]
    },
    {
      "cell_type": "code",
      "metadata": {
        "id": "nhXn3jzxDXh2",
        "colab_type": "code",
        "colab": {}
      },
      "source": [
        "import torch\n",
        "import torch.nn as nn\n",
        "import torch.nn.functional as F\n",
        "\n",
        "import torchvision\n",
        "import torchvision.transforms as transforms"
      ],
      "execution_count": 2,
      "outputs": []
    },
    {
      "cell_type": "markdown",
      "metadata": {
        "id": "nDgPcgb1Dp0V",
        "colab_type": "text"
      },
      "source": [
        "Após a definição das importações, vamos definir os parâmetros e dataset da nossa rede neural.\n",
        "\n",
        "### Parametrização da Rede Neural\n",
        "\n",
        "É importante ressaltar que:\n",
        "- Transformaremos os dados em tensores usando o módulo de transformações.\n",
        "- Usaremos o `DataLoader` para criar carregadores de dados convenientes ou chamados de iteradores, o que facilita a alimentação eficiente de dados em lotes em modelos de _deep learning_.\n",
        "- Criaremos também lotes dos dados configurando o parâmetro batch dentro do carregador de dados. Observe que usamos lotes de `32` para o projeto, mas é possível utilizar `64` e `128`."
      ]
    },
    {
      "cell_type": "code",
      "metadata": {
        "id": "OeNu4v6fEG6-",
        "colab_type": "code",
        "colab": {}
      },
      "source": [
        "# Tamanho padrão do batch para o nosso projeto\n",
        "BATCH_SIZE = 32\n",
        "\n",
        "# Transformações\n",
        "transform = transforms.Compose(\n",
        "    [transforms.ToTensor()])\n",
        "\n",
        "## Baixando e carregando o dataset de treino\n",
        "trainset = torchvision.datasets.MNIST(root='./data', train=True,\n",
        "                                        download=True, transform=transform)\n",
        "trainloader = torch.utils.data.DataLoader(trainset, batch_size=BATCH_SIZE,\n",
        "                                          shuffle=True, num_workers=2)\n",
        "\n",
        "## Baixando e carregando o dataset de teste\n",
        "testset = torchvision.datasets.MNIST(root='./data', train=False,\n",
        "                                       download=True, transform=transform)\n",
        "testloader = torch.utils.data.DataLoader(testset, batch_size=BATCH_SIZE,\n",
        "                                         shuffle=True, num_workers=2)"
      ],
      "execution_count": 18,
      "outputs": []
    },
    {
      "cell_type": "markdown",
      "metadata": {
        "id": "p9OptsBSOiZw",
        "colab_type": "text"
      },
      "source": [
        "## Visualizando os dados\n",
        "\n",
        "Vamos verificar o que o conjunto de dados de treino e teste possuem. Usaremos o `matplotlib` para imprimir algumas das imagens do nosso conjunto de dados."
      ]
    },
    {
      "cell_type": "code",
      "metadata": {
        "id": "uueoegR9KgYF",
        "colab_type": "code",
        "colab": {
          "base_uri": "https://localhost:8080/",
          "height": 288
        },
        "outputId": "e2e710b6-1eed-4f01-dcc7-ffed857642c6"
      },
      "source": [
        "# Vamos importar também o NumPy e o MPLib\n",
        "import matplotlib.pyplot as plt\n",
        "import numpy as np\n",
        "\n",
        "# Função p/ exibir a imagem do MNIST\n",
        "def imshow(img):\n",
        "    # img = img / 2 + 0.5     # Não normalizada\n",
        "    npimg = img.numpy()\n",
        "    plt.imshow(np.transpose(npimg, (1, 2, 0)))\n",
        "\n",
        "# Vamos pegar algumas imagens de treino aleatórias:\n",
        "dataiter = iter(trainloader)\n",
        "images, labels = dataiter.next()\n",
        "\n",
        "# Visualização\n",
        "imshow(torchvision.utils.make_grid(images))"
      ],
      "execution_count": 4,
      "outputs": [
        {
          "output_type": "stream",
          "text": [
            "\n",
            "\n",
            "\n",
            "\n"
          ],
          "name": "stdout"
        },
        {
          "output_type": "display_data",
          "data": {
            "image/png": "[encoded data removed]",
            "text/plain": [
              "<Figure size 432x288 with 1 Axes>"
            ]
          },
          "metadata": {
            "tags": [],
            "needs_background": "light"
          }
        }
      ]
    },
    {
      "cell_type": "code",
      "metadata": {
        "id": "TrTceH6FK2NT",
        "colab_type": "code",
        "colab": {
          "base_uri": "https://localhost:8080/",
          "height": 51
        },
        "outputId": "959ba3df-efbc-4616-8d1e-58a0ec84af2a"
      },
      "source": [
        "# Vamos verificar o tamanho do batch da imagem:\n",
        "for images, labels in trainloader:\n",
        "    print(\"Tamanho do batch da imagem:\", images.shape)\n",
        "    print(\"Tamanho da label da imagem:\", labels.shape)\n",
        "    break"
      ],
      "execution_count": 5,
      "outputs": [
        {
          "output_type": "stream",
          "text": [
            "Tamanho do batch da imagem: torch.Size([32, 1, 28, 28])\n",
            "Tamanho da label da imagem: torch.Size([32])\n"
          ],
          "name": "stdout"
        }
      ]
    },
    {
      "cell_type": "markdown",
      "metadata": {
        "id": "gWRg0Z5nPFzf",
        "colab_type": "text"
      },
      "source": [
        "### Resultante\n",
        "\n",
        "Desta forma, sabemos que nossas imagens são 28x28 (altura x largura), e que cada lote contém 32 amostras.\n",
        "\n",
        "## O modelo\n",
        "Usando um pipeline de estrutura de aprendizado profundo canônico, vamos construir um modelo de camada convolucional em 2D.\n",
        "\n",
        "O `__init __ ()` define uma porção de camadas e os componentes da rede neural. Em nosso modelo, temos uma camada convolucional denotada por `nn.Conv2d(...)`. Como lidamos com um conjunto de dados de imagem em escala de cinza, precisamos apenas de um canal, portanto `in_channels = 1`. Esperamos obter uma boa representação dessa camada, portanto usamos `out_channels = 32`. O tamanho do kernel é 3 e, para o restante dos parâmetros, usamos os valores padrão que você pode encontrar [aqui](https://pytorch.org/docs/stable/nn.html?highlight=conv2d#conv2d).\n",
        "\n",
        "Usamos também, duas camadas consecutivas (ou o que chamamos de transformações lineares) nos dados recebidos. Observe que para `D1` eu tenho uma dimensão que parece ter surgido do nada. `128` representa o tamanho que queremos como saída `(26 * 26 * 32)` e representa a dimensão dos dados recebidos. \n",
        "\n",
        "A camada convolucional transforma os dados de entrada em uma dimensão específica que deve ser considerada na próxima camada. O mesmo se aplica à segunda camada (`D2`), em que a dimensão da saída da camada linear anterior foi adicionada como `in_features = 128`, e `10` é apenas o tamanho da saída que também corresponde ao número de classes.\n",
        "\n",
        "A [documentação do PyTorch](https://pytorch.org/docs/stable/nn.html?highlight=linear#conv2d) explica como calcular melhor estes valores.\n",
        "\n",
        "Após cada uma dessas camadas, também aplicamos uma função de ativação como `ReLU`. Para fins de previsão, aplicamos uma camada `softmax` à última transformação e retornamos a saída dela.\n"
      ]
    },
    {
      "cell_type": "code",
      "metadata": {
        "id": "kWB_q4UdK8CI",
        "colab_type": "code",
        "colab": {}
      },
      "source": [
        "class MyModel(nn.Module):\n",
        "    def __init__(self):\n",
        "        super(MyModel, self).__init__()\n",
        "\n",
        "        # 28x28x1 => 26x26x32\n",
        "        self.conv1 = nn.Conv2d(in_channels=1, out_channels=32, kernel_size=3)\n",
        "        self.d1 = nn.Linear(26 * 26 * 32, 128)\n",
        "        self.d2 = nn.Linear(128, 10)\n",
        "\n",
        "    def forward(self, x):\n",
        "        # 32x1x28x28 => 32x32x26x26\n",
        "        x = self.conv1(x)\n",
        "        x = F.relu(x)\n",
        "\n",
        "        # flatten => 32 x (32*26*26)\n",
        "        x = x.flatten(start_dim = 1)\n",
        "\n",
        "        # 32 x (32*26*26) => 32x128\n",
        "        x = self.d1(x)\n",
        "        x = F.relu(x)\n",
        "\n",
        "        # logits => 32x10\n",
        "        logits = self.d2(x)\n",
        "        out = F.softmax(logits, dim=1)\n",
        "        return out"
      ],
      "execution_count": 6,
      "outputs": []
    },
    {
      "cell_type": "markdown",
      "metadata": {
        "id": "ysTcRdiwRbif",
        "colab_type": "text"
      },
      "source": [
        "### Cálculo da camada de saída\n",
        "\n",
        "![](https://miro.medium.com/max/1400/1*gllVRO0kP4I_gshIr-OEtg.png)"
      ]
    },
    {
      "cell_type": "code",
      "metadata": {
        "id": "fv4c2m7jK-aC",
        "colab_type": "code",
        "colab": {
          "base_uri": "https://localhost:8080/",
          "height": 51
        },
        "outputId": "9cdff32e-cd19-4571-bfd4-6d37a92c8775"
      },
      "source": [
        "# Vamos testar o modelo com um único batch para garantir que as dimensões de\n",
        "# saída são as esperadas\n",
        "\n",
        "model = MyModel()\n",
        "for images, labels in trainloader:\n",
        "    print(\"Tamanho do batch:\", images.shape)\n",
        "    out = model(images)\n",
        "    print(out.shape)\n",
        "    break"
      ],
      "execution_count": 7,
      "outputs": [
        {
          "output_type": "stream",
          "text": [
            "Tamanho do batch: torch.Size([32, 1, 28, 28])\n",
            "torch.Size([32, 10])\n"
          ],
          "name": "stdout"
        }
      ]
    },
    {
      "cell_type": "markdown",
      "metadata": {
        "id": "X8loXQONR20x",
        "colab_type": "text"
      },
      "source": [
        "## Função de perda (_loss_), otimizador (_optimizer_) e calculando a acurácia\n",
        "\n",
        "Definimos o nosso `lr = 0.001` e um total de `5` épocas (_epochs_) p/ o treino, posteriormente atribuímos o dispositivo à uma CPU (a não ser que CUDAs estejam disponíveis, uma GPU, no caso).\n",
        "\n",
        "A nossa escolha de otimizador vem com base em resultados de testes do CIFAR10 e um dataset de cães e gatos, bem como da própria comunidade:\n",
        "\n",
        "Validação | Treinamento \n",
        ":-: | :-:\n",
        "![Validação](https://shaoanlu.files.wordpress.com/2017/05/val_acc.png) | ![Treinamento](https://shaoanlu.files.wordpress.com/2017/05/trn_acc.png)\n",
        "\n",
        "Perda na Validação | Perda no treinamento\n",
        ":-: | :-:\n",
        "![Perda na validação](https://shaoanlu.files.wordpress.com/2017/05/val_loss.png) | ![Perda no treinamento](https://shaoanlu.files.wordpress.com/2017/05/trn_loss.png)\n",
        "\n",
        "Fontes: [Artigo sobre SGD e ADAM (gráficos)](https://shaoanlu.wordpress.com/2017/05/29/sgd-all-which-one-is-the-best-optimizer-dogs-vs-cats-toy-experiment/), [Artigo generalista](https://ruder.io/optimizing-gradient-descent/), [Artigo generalista II](https://mlfromscratch.com/optimizers-explained/#/)."
      ]
    },
    {
      "cell_type": "code",
      "metadata": {
        "id": "MnMNKOqFK_zW",
        "colab_type": "code",
        "colab": {}
      },
      "source": [
        "learning_rate = 0.001\n",
        "num_epochs = 5\n",
        "\n",
        "device = torch.device(\"cuda:0\" if torch.cuda.is_available() else \"cpu\")\n",
        "model = MyModel()\n",
        "model = model.to(device)\n",
        "criterion = nn.CrossEntropyLoss()\n",
        "optimizer = torch.optim.Adam(model.parameters(), lr=learning_rate)\n",
        "\n",
        "# Cálculo de acurácia\n",
        "def get_accuracy(logit, target, batch_size):\n",
        "    corrects = (torch.max(logit, 1)[1].view(target.size()).data == target.data).sum()\n",
        "    accuracy = 100.0 * corrects/batch_size\n",
        "    return accuracy.item()"
      ],
      "execution_count": 8,
      "outputs": []
    },
    {
      "cell_type": "code",
      "metadata": {
        "id": "5wvKRLBLLBds",
        "colab_type": "code",
        "colab": {
          "base_uri": "https://localhost:8080/",
          "height": 119
        },
        "outputId": "157d7725-519f-4283-e68d-9ae68c5779cc"
      },
      "source": [
        "print(\"Learning Rate:\", learning_rate)\n",
        "for epoch in range(num_epochs):\n",
        "    train_running_loss = 0.0\n",
        "    train_acc = 0.0\n",
        "\n",
        "    model = model.train()\n",
        "\n",
        "    # Hora de treinar:\n",
        "    for i, (images, labels) in enumerate(trainloader):\n",
        "        \n",
        "        images = images.to(device)\n",
        "        labels = labels.to(device)\n",
        "\n",
        "        ## forward + backward propagation + loss\n",
        "        logits = model(images)\n",
        "        loss = criterion(logits, labels)\n",
        "        optimizer.zero_grad()\n",
        "        loss.backward()\n",
        "\n",
        "        # Atualizando os parâmetros do nosso modelo\n",
        "        optimizer.step()\n",
        "\n",
        "        train_running_loss += loss.detach().item()\n",
        "        train_acc += get_accuracy(logits, labels, BATCH_SIZE)\n",
        "    \n",
        "    model.eval()\n",
        "    print('Época: %d de %d | Loss: %.4f | Acurácia do treino: %.2f' \\\n",
        "          %(epoch + 1, num_epochs, train_running_loss / i, train_acc/i)) "
      ],
      "execution_count": 9,
      "outputs": [
        {
          "output_type": "stream",
          "text": [
            "Learning Rate: 0.001\n",
            "Época: 1 de 5 | Loss: 1.5568 | Acurácia do treino: 90.94\n",
            "Época: 2 de 5 | Loss: 1.4951 | Acurácia do treino: 96.93\n",
            "Época: 3 de 5 | Loss: 1.4838 | Acurácia do treino: 97.99\n",
            "Época: 4 de 5 | Loss: 1.4789 | Acurácia do treino: 98.42\n",
            "Época: 5 de 5 | Loss: 1.4760 | Acurácia do treino: 98.70\n"
          ],
          "name": "stdout"
        }
      ]
    },
    {
      "cell_type": "code",
      "metadata": {
        "id": "os26MQkNLDB4",
        "colab_type": "code",
        "colab": {
          "base_uri": "https://localhost:8080/",
          "height": 171
        },
        "outputId": "21dc80db-e9c5-446c-8023-700befbf3d17"
      },
      "source": [
        "# Estamos prontos para testar (uma única rodada) ;)\n",
        "test_acc = 0.0\n",
        "for i, (images, labels) in enumerate(testloader, 0):\n",
        "    images = images.to(device)\n",
        "    labels = labels.to(device)\n",
        "    outputs = model(images)\n",
        "    test_acc += get_accuracy(outputs, labels, BATCH_SIZE)\n",
        "\n",
        "imshow(torchvision.utils.make_grid(images))\n",
        "print(labels.data)\n",
        "print('Acurácia do teste: %.2f'%( test_acc/i))"
      ],
      "execution_count": 20,
      "outputs": [
        {
          "output_type": "stream",
          "text": [
            "tensor([4, 3, 8, 4, 7, 2, 1, 2, 6, 3, 4, 7, 2, 4, 5, 8])\n",
            "Acurácia do teste: 98.21\n"
          ],
          "name": "stdout"
        },
        {
          "output_type": "display_data",
          "data": {
            "image/png": "[encoded data removed]",
            "text/plain": [
              "<Figure size 432x288 with 1 Axes>"
            ]
          },
          "metadata": {
            "tags": [],
            "needs_background": "light"
          }
        }
      ]
    }
  ]
}